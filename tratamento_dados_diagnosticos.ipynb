{
 "cells": [
  {
   "cell_type": "code",
   "execution_count": null,
   "id": "27b12406",
   "metadata": {},
   "outputs": [],
   "source": [
    "\n",
    "import pandas as pd\n",
    "import numpy as np\n",
    "import matplotlib.pyplot as plt\n",
    "import seaborn as sns\n",
    "\n",
    "# Configuração do estilo dos gráficos\n",
    "sns.set(style=\"whitegrid\")\n"
   ]
  },
  {
   "cell_type": "markdown",
   "id": "066f44b6",
   "metadata": {},
   "source": [
    "\n",
    "# 🧹 **Tratamento Completo dos Dados de Diagnóstico de Câncer**\n",
    "🔍 *Garantindo qualidade antes da análise*\n",
    "\n",
    "---\n",
    "\n",
    "## **📌 Introdução**\n",
    "Antes de realizarmos qualquer análise, precisamos garantir que os dados estão **limpos e confiáveis**. Dados mal estruturados podem levar a conclusões erradas, afetando pesquisas e decisões de saúde pública.\n",
    "\n",
    "Neste notebook, vamos tratar os dados da **base de diagnósticos de câncer** do **Registro de Câncer de Base Populacional (RCBP) de Poços de Caldas**.  \n",
    "\n",
    "**Etapas do tratamento de dados:**  \n",
    "\n",
    "✅ Verificação e remoção de **valores ausentes** em colunas essenciais.  \n",
    "✅ Tratamento de **datas inválidas ou inconsistentes**.  \n",
    "✅ Identificação e correção de **outliers temporais**.  \n",
    "✅ Remoção ou ajuste de **anos incompletos** para evitar distorções na análise.  \n",
    "\n",
    "Após o tratamento, reanalisaremos a **taxa de crescimento anual de diagnósticos** de forma mais confiável. 🚀  \n"
   ]
  },
  {
   "cell_type": "code",
   "execution_count": null,
   "id": "6150d3df",
   "metadata": {},
   "outputs": [],
   "source": [
    "\n",
    "# Carregar o arquivo\n",
    "file_path = \"/mnt/data/base_nao_identificada_3702.csv\"\n",
    "\n",
    "# Ler o dataset\n",
    "df = pd.read_csv(file_path, encoding=\"ISO-8859-1\", delimiter=\";\")\n",
    "\n",
    "# Exibir informações iniciais\n",
    "df.info()\n",
    "df.head()\n"
   ]
  },
  {
   "cell_type": "markdown",
   "id": "0d4fb4bd",
   "metadata": {},
   "source": [
    "\n",
    "## 📊 **Valores Ausentes**\n",
    "Vamos verificar se existem valores ausentes nas colunas essenciais, como **data de diagnóstico**.\n"
   ]
  },
  {
   "cell_type": "code",
   "execution_count": null,
   "id": "408c846b",
   "metadata": {},
   "outputs": [],
   "source": [
    "\n",
    "# Contagem de valores ausentes\n",
    "missing_values = df.isnull().sum()\n",
    "missing_values = missing_values[missing_values > 0]\n",
    "missing_values\n"
   ]
  },
  {
   "cell_type": "markdown",
   "id": "237ae0bd",
   "metadata": {},
   "source": [
    "\n",
    "### 🔧 **Tratando valores ausentes**\n",
    "Para evitar distorções na análise, vamos:\n",
    "\n",
    "1. **Remover registros sem data de diagnóstico**, pois não conseguimos analisá-los.  \n",
    "2. **Manter outros valores ausentes**, pois podem ser irrelevantes para esta análise.  \n"
   ]
  },
  {
   "cell_type": "code",
   "execution_count": null,
   "id": "19f3b396",
   "metadata": {},
   "outputs": [],
   "source": [
    "\n",
    "# Removendo registros sem data de diagnóstico\n",
    "df = df.dropna(subset=[\"Data de Diagnostico\"])\n",
    "\n",
    "# Verificando novamente\n",
    "df.isnull().sum()\n"
   ]
  },
  {
   "cell_type": "markdown",
   "id": "bbf4f40f",
   "metadata": {},
   "source": [
    "\n",
    "## 🗓 **Verificando Datas Inválidas**\n",
    "Datas erradas podem prejudicar a análise. Vamos garantir que:\n",
    "\n",
    "✅ Todas as datas estejam no formato correto.  \n",
    "✅ Não existam diagnósticos em **anos futuros**.  \n",
    "✅ Não existam diagnósticos em **anos muito antigos** que não fazem sentido no contexto do estudo.  \n"
   ]
  },
  {
   "cell_type": "code",
   "execution_count": null,
   "id": "58bdf9f3",
   "metadata": {},
   "outputs": [],
   "source": [
    "\n",
    "# Converter a coluna de Data de Diagnóstico para formato de data\n",
    "df[\"Data de Diagnostico\"] = pd.to_datetime(df[\"Data de Diagnostico\"], format=\"%d/%m/%Y\", errors=\"coerce\")\n",
    "\n",
    "# Criar a coluna do ano de diagnóstico\n",
    "df[\"Ano do Diagnostico\"] = df[\"Data de Diagnostico\"].dt.year\n",
    "\n",
    "# Verificar valores mínimos e máximos de ano\n",
    "print(\"Ano mais antigo registrado:\", df[\"Ano do Diagnostico\"].min())\n",
    "print(\"Ano mais recente registrado:\", df[\"Ano do Diagnostico\"].max())\n"
   ]
  },
  {
   "cell_type": "markdown",
   "id": "2f6d6d30",
   "metadata": {},
   "source": [
    "\n",
    "### 🚨 **Corrigindo Datas Futuras ou Erradas**\n",
    "Se houver registros em anos futuros ou muito antigos, vamos removê-los.\n"
   ]
  },
  {
   "cell_type": "code",
   "execution_count": null,
   "id": "bb693c6d",
   "metadata": {},
   "outputs": [],
   "source": [
    "\n",
    "# Remover anos que não fazem sentido (exemplo: acima do ano atual)\n",
    "ano_atual = pd.Timestamp.today().year\n",
    "df = df[(df[\"Ano do Diagnostico\"] <= ano_atual) & (df[\"Ano do Diagnostico\"] >= 1900)]\n",
    "\n",
    "# Verificar novamente\n",
    "df[\"Ano do Diagnostico\"].describe()\n"
   ]
  },
  {
   "cell_type": "markdown",
   "id": "1e9f4445",
   "metadata": {},
   "source": [
    "\n",
    "## 📉 **Verificando Anos com Poucos Registros**\n",
    "Se houver anos com poucos registros, pode ser um problema de coleta de dados e devemos decidir se os incluímos na análise.\n"
   ]
  },
  {
   "cell_type": "code",
   "execution_count": null,
   "id": "6e0aa77d",
   "metadata": {},
   "outputs": [],
   "source": [
    "\n",
    "# Contar diagnósticos por ano\n",
    "diagnosticos_por_ano = df[\"Ano do Diagnostico\"].value_counts().sort_index()\n",
    "\n",
    "# Visualizar a distribuição\n",
    "plt.figure(figsize=(10,5))\n",
    "sns.barplot(x=diagnosticos_por_ano.index, y=diagnosticos_por_ano.values, palette=\"Blues_r\")\n",
    "plt.xticks(rotation=45)\n",
    "plt.title(\"Número de Diagnósticos por Ano\", fontsize=14)\n",
    "plt.xlabel(\"Ano\", fontsize=12)\n",
    "plt.ylabel(\"Número de Diagnósticos\", fontsize=12)\n",
    "plt.show()\n"
   ]
  },
  {
   "cell_type": "markdown",
   "id": "0aaf44cd",
   "metadata": {},
   "source": [
    "\n",
    "### ✂️ **Removendo Anos com Registros Insuficientes**\n",
    "Se houver anos com **poucos diagnósticos**, podemos removê-los para evitar distorções.\n"
   ]
  },
  {
   "cell_type": "code",
   "execution_count": null,
   "id": "227836e2",
   "metadata": {},
   "outputs": [],
   "source": [
    "\n",
    "# Definir um limite mínimo (exemplo: anos com menos de 10 casos podem ser removidos)\n",
    "limite_minimo = 10\n",
    "anos_validos = diagnosticos_por_ano[diagnosticos_por_ano >= limite_minimo].index\n",
    "\n",
    "# Filtrar apenas os anos válidos\n",
    "df = df[df[\"Ano do Diagnostico\"].isin(anos_validos)]\n",
    "\n",
    "# Verificar novamente\n",
    "df[\"Ano do Diagnostico\"].value_counts().sort_index()\n"
   ]
  },
  {
   "cell_type": "markdown",
   "id": "b7505cb3",
   "metadata": {},
   "source": [
    "\n",
    "## ✅ **Conclusão do Tratamento de Dados**\n",
    "Após a limpeza, nossos dados estão prontos para análise! 🚀\n",
    "\n",
    "**Modificações realizadas:**  \n",
    "✔ Removemos registros **sem data de diagnóstico**.  \n",
    "✔ Eliminamos **datas inválidas e diagnósticos em anos futuros**.  \n",
    "✔ Identificamos e **removemos anos com registros insuficientes**.  \n",
    "\n",
    "Agora podemos seguir para a análise da **taxa de crescimento anual de diagnósticos de câncer** com mais confiança!  \n"
   ]
  }
 ],
 "metadata": {},
 "nbformat": 4,
 "nbformat_minor": 5
}