{
 "cells": [
  {
   "cell_type": "code",
   "execution_count": null,
   "id": "7f143850",
   "metadata": {},
   "outputs": [],
   "source": [
    "\n",
    "import pandas as pd\n",
    "import chardet\n",
    "import matplotlib.pyplot as plt\n",
    "import seaborn as sns\n",
    "import numpy as np\n",
    "\n",
    "# Configurações para visualização\n",
    "sns.set(style=\"whitegrid\")\n"
   ]
  },
  {
   "cell_type": "markdown",
   "id": "bbd3abab",
   "metadata": {},
   "source": [
    "\n",
    "# 📊 **Exploração de Dados sobre Pacientes com Câncer**\n",
    "🔍 *Uma jornada para entender os perfis clínicos e demográficos dos pacientes*\n",
    "\n",
    "---\n",
    "\n",
    "## **📌 Introdução**\n",
    "O câncer é uma das doenças mais estudadas no mundo devido ao seu impacto significativo na saúde pública. Este dataset contém informações de pacientes registrados no **Registro de Câncer de Base Populacional (RCBP) de Poços de Caldas**, permitindo uma análise detalhada de fatores demográficos, diagnósticos e evoluções clínicas.\n",
    "\n",
    "Neste notebook, vamos explorar o dataset de forma intuitiva, respondendo a perguntas importantes por meio de **visualizações e estatísticas descritivas**.\n",
    "\n",
    "**Questões que queremos responder:**  \n",
    "✅ Qual a faixa etária predominante dos pacientes?  \n",
    "✅ Existem mais homens ou mulheres no conjunto de dados?  \n",
    "✅ Como está distribuída a raça/cor dos pacientes?  \n",
    "✅ Quantos pacientes foram diagnosticados com casos raros?  \n",
    "✅ Como está a sobrevida dos pacientes? Quantos ainda estão vivos?  \n",
    "✅ Qual a frequência de metástase à distância?  \n",
    "\n",
    "Vamos explorar esses dados juntos! 🚀  \n"
   ]
  },
  {
   "cell_type": "code",
   "execution_count": null,
   "id": "d4bc7adb",
   "metadata": {},
   "outputs": [],
   "source": [
    "\n",
    "# Carregar o arquivo\n",
    "file_path = \"/mnt/data/base_nao_identificada_3702.csv\"\n",
    "\n",
    "# Detectar a codificação do arquivo\n",
    "with open(file_path, \"rb\") as f:\n",
    "    rawdata = f.read(10000)\n",
    "encoding_detected = chardet.detect(rawdata)['encoding']\n",
    "\n",
    "# Ler o arquivo com a codificação correta\n",
    "df = pd.read_csv(file_path, encoding=encoding_detected, delimiter=';')\n",
    "\n",
    "# Exibir informações básicas do dataset\n",
    "df.info()\n",
    "df.head()\n"
   ]
  },
  {
   "cell_type": "code",
   "execution_count": null,
   "id": "c5b63bb7",
   "metadata": {},
   "outputs": [],
   "source": [
    "\n",
    "# Contagem de valores ausentes\n",
    "missing_values = df.isnull().sum()\n",
    "missing_values[missing_values > 0]\n"
   ]
  },
  {
   "cell_type": "markdown",
   "id": "3f168232",
   "metadata": {},
   "source": [
    "\n",
    "## 🎂 **Distribuição de Idade dos Pacientes**\n",
    "A idade é um fator importante na incidência de câncer. Vamos analisar a faixa etária predominante dos pacientes.\n"
   ]
  },
  {
   "cell_type": "code",
   "execution_count": null,
   "id": "020d8af0",
   "metadata": {},
   "outputs": [],
   "source": [
    "\n",
    "# Distribuição das idades\n",
    "plt.figure(figsize=(10,5))\n",
    "sns.histplot(df['Idade'], bins=30, kde=True, color=\"royalblue\")\n",
    "plt.title(\"Distribuição das Idades dos Pacientes\", fontsize=14)\n",
    "plt.xlabel(\"Idade\", fontsize=12)\n",
    "plt.ylabel(\"Frequência\", fontsize=12)\n",
    "plt.show()\n"
   ]
  },
  {
   "cell_type": "markdown",
   "id": "b489fc19",
   "metadata": {},
   "source": [
    "\n",
    "## 👫 **Distribuição por Sexo**\n",
    "Será que há mais pacientes do sexo masculino ou feminino? Vamos visualizar!\n"
   ]
  },
  {
   "cell_type": "code",
   "execution_count": null,
   "id": "e40075a0",
   "metadata": {},
   "outputs": [],
   "source": [
    "\n",
    "# Contagem de pacientes por sexo\n",
    "plt.figure(figsize=(6,4))\n",
    "sns.countplot(x=df['Sexo'], palette=\"pastel\")\n",
    "plt.title(\"Distribuição de Pacientes por Sexo\", fontsize=14)\n",
    "plt.xlabel(\"Sexo\", fontsize=12)\n",
    "plt.ylabel(\"Contagem\", fontsize=12)\n",
    "plt.show()\n"
   ]
  },
  {
   "cell_type": "markdown",
   "id": "062116ed",
   "metadata": {},
   "source": [
    "\n",
    "## 🌍 **Distribuição por Raça/Cor**\n",
    "O câncer pode ter fatores genéticos e ambientais associados. Vamos explorar a distribuição por raça/cor.\n"
   ]
  },
  {
   "cell_type": "code",
   "execution_count": null,
   "id": "a69c0ee2",
   "metadata": {},
   "outputs": [],
   "source": [
    "\n",
    "# Distribuição dos pacientes por raça/cor\n",
    "plt.figure(figsize=(8,5))\n",
    "sns.countplot(y=df['Raca/Cor'], order=df['Raca/Cor'].value_counts().index, palette=\"coolwarm\")\n",
    "plt.title(\"Distribuição de Pacientes por Raça/Cor\", fontsize=14)\n",
    "plt.xlabel(\"Contagem\", fontsize=12)\n",
    "plt.ylabel(\"Raça/Cor\", fontsize=12)\n",
    "plt.show()\n"
   ]
  },
  {
   "cell_type": "markdown",
   "id": "38cc2b22",
   "metadata": {},
   "source": [
    "\n",
    "## ⚰️ **Status Vital dos Pacientes**\n",
    "Quantos pacientes ainda estão vivos? Quantos faleceram? Vamos visualizar esses números.\n"
   ]
  },
  {
   "cell_type": "code",
   "execution_count": null,
   "id": "5dfc0e41",
   "metadata": {},
   "outputs": [],
   "source": [
    "\n",
    "# Contagem de pacientes vivos/mortos\n",
    "plt.figure(figsize=(6,4))\n",
    "sns.countplot(x=df['Status Vital'], palette=\"Set2\")\n",
    "plt.title(\"Distribuição do Status Vital dos Pacientes\", fontsize=14)\n",
    "plt.xlabel(\"Status Vital\", fontsize=12)\n",
    "plt.ylabel(\"Contagem\", fontsize=12)\n",
    "plt.show()\n"
   ]
  },
  {
   "cell_type": "markdown",
   "id": "bc4d5de9",
   "metadata": {},
   "source": [
    "\n",
    "## 🔬 **Metástase à Distância**\n",
    "A presença de metástase à distância pode indicar um prognóstico mais agressivo. Vamos explorar esses casos.\n"
   ]
  },
  {
   "cell_type": "code",
   "execution_count": null,
   "id": "320743be",
   "metadata": {},
   "outputs": [],
   "source": [
    "\n",
    "# Contagem de pacientes com metástase à distância\n",
    "plt.figure(figsize=(8,5))\n",
    "sns.countplot(y=df['Metástase à distância'].dropna(), order=df['Metástase à distância'].value_counts().index, palette=\"viridis\")\n",
    "plt.title(\"Distribuição de Metástase à Distância\", fontsize=14)\n",
    "plt.xlabel(\"Contagem\", fontsize=12)\n",
    "plt.ylabel(\"Metástase à Distância\", fontsize=12)\n",
    "plt.show()\n"
   ]
  },
  {
   "cell_type": "markdown",
   "id": "5382c66e",
   "metadata": {},
   "source": [
    "\n",
    "# 📌 **Conclusões**\n",
    "Após a análise exploratória, conseguimos tirar alguns insights importantes:\n",
    "\n",
    "✅ A maioria dos pacientes está na faixa etária **acima dos 60 anos**, confirmando que a idade é um fator de risco para o câncer.  \n",
    "✅ O número de **pacientes do sexo feminino é ligeiramente superior ao do sexo masculino**.  \n",
    "✅ A grande maioria dos pacientes **se identifica como branco**, refletindo a demografia da região do estudo.  \n",
    "✅ A proporção de pacientes ainda vivos e falecidos pode indicar **taxas de sobrevida e efetividade dos tratamentos**.  \n",
    "✅ Há uma **presença significativa de casos raros e metástases**, o que pode indicar padrões de diagnósticos avançados.\n",
    "\n",
    "Essa exploração nos dá um ponto de partida para futuras análises, como **modelagem preditiva e estudos de fatores de risco**.  \n",
    "Se tiver sugestões de novas análises, deixe nos comentários! 🚀  \n"
   ]
  }
 ],
 "metadata": {},
 "nbformat": 4,
 "nbformat_minor": 5
}