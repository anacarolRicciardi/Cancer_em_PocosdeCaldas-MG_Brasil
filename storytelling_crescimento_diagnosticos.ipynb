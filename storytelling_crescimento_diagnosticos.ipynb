{
 "cells": [
  {
   "cell_type": "code",
   "execution_count": null,
   "id": "6a32d5ee",
   "metadata": {},
   "outputs": [],
   "source": [
    "\n",
    "import pandas as pd\n",
    "import matplotlib.pyplot as plt\n",
    "import seaborn as sns\n",
    "import numpy as np\n",
    "\n",
    "# Configurações para visualização\n",
    "sns.set(style=\"whitegrid\")\n"
   ]
  },
  {
   "cell_type": "markdown",
   "id": "48acf4cb",
   "metadata": {},
   "source": [
    "\n",
    "# 📊 **A Evolução dos Diagnósticos de Câncer ao Longo dos Anos**\n",
    "🔍 *Uma análise sobre o crescimento ou declínio dos casos de câncer registrados*\n",
    "\n",
    "---\n",
    "\n",
    "## **📌 Introdução**\n",
    "O câncer é uma das doenças mais impactantes do mundo, e entender sua evolução ao longo dos anos pode fornecer insights valiosos para políticas de saúde, prevenção e tratamentos mais eficazes.\n",
    "\n",
    "Neste notebook, exploramos a **taxa de crescimento anual de diagnósticos de câncer** com base no dataset do **Registro de Câncer de Base Populacional (RCBP) de Poços de Caldas**.  \n",
    "\n",
    "Vamos responder às seguintes perguntas:\n",
    "\n",
    "✅ O número de diagnósticos tem aumentado ou diminuído ao longo dos anos?  \n",
    "✅ Existe algum padrão de crescimento ou queda nos registros?  \n",
    "✅ Houve anos com um aumento ou queda expressiva?  \n",
    "\n",
    "Acompanhe essa jornada conosco! 🚀  \n"
   ]
  },
  {
   "cell_type": "code",
   "execution_count": null,
   "id": "9b2cf6c1",
   "metadata": {},
   "outputs": [],
   "source": [
    "\n",
    "# Carregar o arquivo\n",
    "file_path = \"/mnt/data/base_nao_identificada_3702.csv\"\n",
    "\n",
    "# Ler o dataset\n",
    "df = pd.read_csv(file_path, encoding=\"ISO-8859-1\", delimiter=\";\")\n",
    "\n",
    "# Converter a coluna de Data de Diagnóstico para formato de data\n",
    "df[\"Data de Diagnostico\"] = pd.to_datetime(df[\"Data de Diagnostico\"], format=\"%d/%m/%Y\", errors=\"coerce\")\n",
    "\n",
    "# Criar a coluna do ano de diagnóstico\n",
    "df[\"Ano do Diagnostico\"] = df[\"Data de Diagnostico\"].dt.year\n",
    "\n",
    "# Contar o número de diagnósticos por ano\n",
    "diagnosticos_por_ano = df[\"Ano do Diagnostico\"].value_counts().sort_index()\n",
    "\n",
    "# Calcular a taxa de crescimento anual\n",
    "taxa_crescimento_anual = diagnosticos_por_ano.pct_change() * 100\n",
    "\n",
    "# Criar um dataframe com os resultados\n",
    "df_crescimento = pd.DataFrame({\n",
    "    \"Ano\": diagnosticos_por_ano.index,\n",
    "    \"Número de Diagnósticos\": diagnosticos_por_ano.values,\n",
    "    \"Taxa de Crescimento (%)\": taxa_crescimento_anual.values\n",
    "})\n",
    "\n",
    "# Exibir as primeiras linhas\n",
    "df_crescimento.head()\n"
   ]
  },
  {
   "cell_type": "markdown",
   "id": "36f98613",
   "metadata": {},
   "source": [
    "\n",
    "## 📈 **O número de diagnósticos está aumentando?**\n",
    "Agora que temos a quantidade de diagnósticos por ano, vamos visualizar a tendência geral dos registros.\n"
   ]
  },
  {
   "cell_type": "code",
   "execution_count": null,
   "id": "36b8bf6a",
   "metadata": {},
   "outputs": [],
   "source": [
    "\n",
    "# Gráfico da evolução dos diagnósticos ao longo dos anos\n",
    "plt.figure(figsize=(10,5))\n",
    "sns.lineplot(x=df_crescimento[\"Ano\"], y=df_crescimento[\"Número de Diagnósticos\"], marker=\"o\", color=\"royalblue\")\n",
    "plt.title(\"Evolução dos Diagnósticos de Câncer ao Longo dos Anos\", fontsize=14)\n",
    "plt.xlabel(\"Ano\", fontsize=12)\n",
    "plt.ylabel(\"Número de Diagnósticos\", fontsize=12)\n",
    "plt.grid(True)\n",
    "plt.show()\n"
   ]
  },
  {
   "cell_type": "markdown",
   "id": "ee3dbd74",
   "metadata": {},
   "source": [
    "\n",
    "## 📊 **Taxa de Crescimento Anual**\n",
    "A taxa de crescimento anual nos mostra **o percentual de aumento ou queda no número de diagnósticos** em comparação ao ano anterior.\n"
   ]
  },
  {
   "cell_type": "code",
   "execution_count": null,
   "id": "361c52fb",
   "metadata": {},
   "outputs": [],
   "source": [
    "\n",
    "# Gráfico da taxa de crescimento anual\n",
    "plt.figure(figsize=(10,5))\n",
    "sns.barplot(x=df_crescimento[\"Ano\"], y=df_crescimento[\"Taxa de Crescimento (%)\"], palette=\"coolwarm\")\n",
    "plt.axhline(y=0, color=\"black\", linestyle=\"--\")\n",
    "plt.title(\"Taxa de Crescimento Anual de Diagnósticos de Câncer\", fontsize=14)\n",
    "plt.xlabel(\"Ano\", fontsize=12)\n",
    "plt.ylabel(\"Taxa de Crescimento (%)\", fontsize=12)\n",
    "plt.xticks(rotation=45)\n",
    "plt.grid(True, linestyle=\"--\", alpha=0.5)\n",
    "plt.show()\n"
   ]
  },
  {
   "cell_type": "markdown",
   "id": "c8350c33",
   "metadata": {},
   "source": [
    "\n",
    "# 📌 **Conclusões**\n",
    "Após nossa análise, conseguimos identificar alguns padrões interessantes:\n",
    "\n",
    "✅ O número total de diagnósticos **tem flutuações significativas** ao longo dos anos.  \n",
    "✅ Em alguns anos, houve um **crescimento expressivo**, enquanto em outros ocorreu uma queda no número de registros.  \n",
    "✅ A taxa de crescimento anual mostra variações, podendo estar relacionadas a **melhoria nos métodos de detecção, campanhas de conscientização ou fatores externos**.  \n",
    "\n",
    "Esses insights são essenciais para entender a evolução da doença e direcionar políticas de saúde pública.  \n",
    "Se quiser aprofundar essa análise, podemos explorar fatores como **a distribuição dos diagnósticos por faixa etária ou sexo ao longo do tempo**.  \n",
    "\n",
    "📢 *Quais outros padrões você acha que podem influenciar essa variação?* 🚀  \n"
   ]
  }
 ],
 "metadata": {},
 "nbformat": 4,
 "nbformat_minor": 5
}